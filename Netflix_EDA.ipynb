{
 "cells": [
  {
   "cell_type": "markdown",
   "metadata": {},
   "source": [
    "<img src= \"https://images.ctfassets.net/4cd45et68cgf/5y7i4snzpqkr2oHRCRAkN4/c144749aa0df745e43367744af149f66/Android_Collage_1920x1080__UCAN_En.jpg\">"
   ]
  },
  {
   "cell_type": "markdown",
   "metadata": {},
   "source": [
    "                                            \n",
    "# <center> 🔧🔨1.Importing Libraries Required</center>"
   ]
  },
  {
   "cell_type": "code",
   "execution_count": 1,
   "metadata": {
    "_cell_guid": "b1076dfc-b9ad-4769-8c92-a6c4dae69d19",
    "_uuid": "8f2839f25d086af736a60e9eeb907d3b93b6e0e5",
    "execution": {
     "iopub.execute_input": "2023-01-06T14:34:54.827361Z",
     "iopub.status.busy": "2023-01-06T14:34:54.826961Z",
     "iopub.status.idle": "2023-01-06T14:34:54.838006Z",
     "shell.execute_reply": "2023-01-06T14:34:54.836512Z",
     "shell.execute_reply.started": "2023-01-06T14:34:54.827331Z"
    }
   },
   "outputs": [],
   "source": [
    "\n",
    "# For example, here's several helpful packages to load\n",
    "\n",
    "import numpy as np # linear algebra\n",
    "import pandas as pd # data processing, CSV file I/O (e.g. pd.read_csv)\n",
    "import seaborn as sns\n",
    "import matplotlib.pyplot as plt\n",
    "from datetime import datetime\n"
   ]
  },
  {
   "cell_type": "markdown",
   "metadata": {},
   "source": [
    "# <center> 📅2. Importing  and observing Dataset</center>"
   ]
  },
  {
   "cell_type": "code",
   "execution_count": 2,
   "metadata": {
    "execution": {
     "iopub.execute_input": "2023-01-06T14:34:54.841144Z",
     "iopub.status.busy": "2023-01-06T14:34:54.840321Z",
     "iopub.status.idle": "2023-01-06T14:34:54.930649Z",
     "shell.execute_reply": "2023-01-06T14:34:54.929408Z",
     "shell.execute_reply.started": "2023-01-06T14:34:54.841095Z"
    }
   },
   "outputs": [
    {
     "data": {
      "text/html": [
       "<div>\n",
       "<style scoped>\n",
       "    .dataframe tbody tr th:only-of-type {\n",
       "        vertical-align: middle;\n",
       "    }\n",
       "\n",
       "    .dataframe tbody tr th {\n",
       "        vertical-align: top;\n",
       "    }\n",
       "\n",
       "    .dataframe thead th {\n",
       "        text-align: right;\n",
       "    }\n",
       "</style>\n",
       "<table border=\"1\" class=\"dataframe\">\n",
       "  <thead>\n",
       "    <tr style=\"text-align: right;\">\n",
       "      <th></th>\n",
       "      <th>show_id</th>\n",
       "      <th>type</th>\n",
       "      <th>title</th>\n",
       "      <th>director</th>\n",
       "      <th>cast</th>\n",
       "      <th>country</th>\n",
       "      <th>date_added</th>\n",
       "      <th>release_year</th>\n",
       "      <th>rating</th>\n",
       "      <th>duration</th>\n",
       "      <th>listed_in</th>\n",
       "      <th>description</th>\n",
       "    </tr>\n",
       "  </thead>\n",
       "  <tbody>\n",
       "    <tr>\n",
       "      <th>0</th>\n",
       "      <td>s1</td>\n",
       "      <td>Movie</td>\n",
       "      <td>Dick Johnson Is Dead</td>\n",
       "      <td>Kirsten Johnson</td>\n",
       "      <td>NaN</td>\n",
       "      <td>United States</td>\n",
       "      <td>September 25, 2021</td>\n",
       "      <td>2020</td>\n",
       "      <td>PG-13</td>\n",
       "      <td>90 min</td>\n",
       "      <td>Documentaries</td>\n",
       "      <td>As her father nears the end of his life, filmm...</td>\n",
       "    </tr>\n",
       "    <tr>\n",
       "      <th>1</th>\n",
       "      <td>s2</td>\n",
       "      <td>TV Show</td>\n",
       "      <td>Blood &amp; Water</td>\n",
       "      <td>NaN</td>\n",
       "      <td>Ama Qamata, Khosi Ngema, Gail Mabalane, Thaban...</td>\n",
       "      <td>South Africa</td>\n",
       "      <td>September 24, 2021</td>\n",
       "      <td>2021</td>\n",
       "      <td>TV-MA</td>\n",
       "      <td>2 Seasons</td>\n",
       "      <td>International TV Shows, TV Dramas, TV Mysteries</td>\n",
       "      <td>After crossing paths at a party, a Cape Town t...</td>\n",
       "    </tr>\n",
       "    <tr>\n",
       "      <th>2</th>\n",
       "      <td>s3</td>\n",
       "      <td>TV Show</td>\n",
       "      <td>Ganglands</td>\n",
       "      <td>Julien Leclercq</td>\n",
       "      <td>Sami Bouajila, Tracy Gotoas, Samuel Jouy, Nabi...</td>\n",
       "      <td>NaN</td>\n",
       "      <td>September 24, 2021</td>\n",
       "      <td>2021</td>\n",
       "      <td>TV-MA</td>\n",
       "      <td>1 Season</td>\n",
       "      <td>Crime TV Shows, International TV Shows, TV Act...</td>\n",
       "      <td>To protect his family from a powerful drug lor...</td>\n",
       "    </tr>\n",
       "  </tbody>\n",
       "</table>\n",
       "</div>"
      ],
      "text/plain": [
       "  show_id     type                 title         director  \\\n",
       "0      s1    Movie  Dick Johnson Is Dead  Kirsten Johnson   \n",
       "1      s2  TV Show         Blood & Water              NaN   \n",
       "2      s3  TV Show             Ganglands  Julien Leclercq   \n",
       "\n",
       "                                                cast        country  \\\n",
       "0                                                NaN  United States   \n",
       "1  Ama Qamata, Khosi Ngema, Gail Mabalane, Thaban...   South Africa   \n",
       "2  Sami Bouajila, Tracy Gotoas, Samuel Jouy, Nabi...            NaN   \n",
       "\n",
       "           date_added  release_year rating   duration  \\\n",
       "0  September 25, 2021          2020  PG-13     90 min   \n",
       "1  September 24, 2021          2021  TV-MA  2 Seasons   \n",
       "2  September 24, 2021          2021  TV-MA   1 Season   \n",
       "\n",
       "                                           listed_in  \\\n",
       "0                                      Documentaries   \n",
       "1    International TV Shows, TV Dramas, TV Mysteries   \n",
       "2  Crime TV Shows, International TV Shows, TV Act...   \n",
       "\n",
       "                                         description  \n",
       "0  As her father nears the end of his life, filmm...  \n",
       "1  After crossing paths at a party, a Cape Town t...  \n",
       "2  To protect his family from a powerful drug lor...  "
      ]
     },
     "execution_count": 2,
     "metadata": {},
     "output_type": "execute_result"
    }
   ],
   "source": [
    "df =  pd.read_csv(r\"C:\\Users\\Asus-pc\\selu shit\\Projects\\Netflix_titles_upto 2021\\netflix_titles.csv\")\n",
    "df.head(3)"
   ]
  },
  {
   "cell_type": "code",
   "execution_count": 3,
   "metadata": {
    "execution": {
     "iopub.execute_input": "2023-01-06T14:34:54.933278Z",
     "iopub.status.busy": "2023-01-06T14:34:54.932055Z",
     "iopub.status.idle": "2023-01-06T14:34:54.939779Z",
     "shell.execute_reply": "2023-01-06T14:34:54.938615Z",
     "shell.execute_reply.started": "2023-01-06T14:34:54.933234Z"
    }
   },
   "outputs": [
    {
     "name": "stdout",
     "output_type": "stream",
     "text": [
      "Number of Rows: 8807\n",
      "Number of Columns: 12\n"
     ]
    }
   ],
   "source": [
    "#Shape\n",
    "print(\"Number of Rows:\", df.shape[0])\n",
    "print(\"Number of Columns:\" , df.shape[1])"
   ]
  },
  {
   "cell_type": "code",
   "execution_count": 4,
   "metadata": {
    "execution": {
     "iopub.execute_input": "2023-01-06T14:34:54.943020Z",
     "iopub.status.busy": "2023-01-06T14:34:54.942637Z",
     "iopub.status.idle": "2023-01-06T14:34:54.954535Z",
     "shell.execute_reply": "2023-01-06T14:34:54.953039Z",
     "shell.execute_reply.started": "2023-01-06T14:34:54.942987Z"
    }
   },
   "outputs": [
    {
     "data": {
      "text/plain": [
       "['show_id',\n",
       " 'type',\n",
       " 'title',\n",
       " 'director',\n",
       " 'cast',\n",
       " 'country',\n",
       " 'date_added',\n",
       " 'release_year',\n",
       " 'rating',\n",
       " 'duration',\n",
       " 'listed_in',\n",
       " 'description']"
      ]
     },
     "execution_count": 4,
     "metadata": {},
     "output_type": "execute_result"
    }
   ],
   "source": [
    "list(df.columns)\n"
   ]
  },
  {
   "cell_type": "code",
   "execution_count": 5,
   "metadata": {
    "execution": {
     "iopub.execute_input": "2023-01-06T14:34:54.956800Z",
     "iopub.status.busy": "2023-01-06T14:34:54.956425Z",
     "iopub.status.idle": "2023-01-06T14:34:54.970157Z",
     "shell.execute_reply": "2023-01-06T14:34:54.968670Z",
     "shell.execute_reply.started": "2023-01-06T14:34:54.956769Z"
    }
   },
   "outputs": [
    {
     "data": {
      "text/plain": [
       "show_id         object\n",
       "type            object\n",
       "title           object\n",
       "director        object\n",
       "cast            object\n",
       "country         object\n",
       "date_added      object\n",
       "release_year     int64\n",
       "rating          object\n",
       "duration        object\n",
       "listed_in       object\n",
       "description     object\n",
       "dtype: object"
      ]
     },
     "execution_count": 5,
     "metadata": {},
     "output_type": "execute_result"
    }
   ],
   "source": [
    "#datatype of each column\n",
    "df.dtypes"
   ]
  },
  {
   "cell_type": "code",
   "execution_count": 6,
   "metadata": {
    "execution": {
     "iopub.execute_input": "2023-01-06T14:34:54.972152Z",
     "iopub.status.busy": "2023-01-06T14:34:54.971790Z",
     "iopub.status.idle": "2023-01-06T14:34:54.992006Z",
     "shell.execute_reply": "2023-01-06T14:34:54.990912Z",
     "shell.execute_reply.started": "2023-01-06T14:34:54.972121Z"
    }
   },
   "outputs": [
    {
     "data": {
      "text/plain": [
       "show_id            0\n",
       "type               0\n",
       "title              0\n",
       "director        2634\n",
       "cast             825\n",
       "country          831\n",
       "date_added        10\n",
       "release_year       0\n",
       "rating             4\n",
       "duration           3\n",
       "listed_in          0\n",
       "description        0\n",
       "dtype: int64"
      ]
     },
     "execution_count": 6,
     "metadata": {},
     "output_type": "execute_result"
    }
   ],
   "source": [
    "#Null values per colmn\n",
    "df.isna().sum()"
   ]
  },
  {
   "cell_type": "code",
   "execution_count": 7,
   "metadata": {
    "execution": {
     "iopub.execute_input": "2023-01-06T14:34:54.993699Z",
     "iopub.status.busy": "2023-01-06T14:34:54.993351Z",
     "iopub.status.idle": "2023-01-06T14:34:55.021788Z",
     "shell.execute_reply": "2023-01-06T14:34:55.020591Z",
     "shell.execute_reply.started": "2023-01-06T14:34:54.993667Z"
    }
   },
   "outputs": [
    {
     "data": {
      "text/plain": [
       "0"
      ]
     },
     "execution_count": 7,
     "metadata": {},
     "output_type": "execute_result"
    }
   ],
   "source": [
    "#duplicates\n",
    "df.duplicated().sum()"
   ]
  },
  {
   "cell_type": "code",
   "execution_count": 8,
   "metadata": {
    "execution": {
     "iopub.execute_input": "2023-01-06T14:34:55.023706Z",
     "iopub.status.busy": "2023-01-06T14:34:55.023336Z",
     "iopub.status.idle": "2023-01-06T14:34:55.032585Z",
     "shell.execute_reply": "2023-01-06T14:34:55.031387Z",
     "shell.execute_reply.started": "2023-01-06T14:34:55.023674Z"
    }
   },
   "outputs": [
    {
     "data": {
      "text/plain": [
       "2021"
      ]
     },
     "execution_count": 8,
     "metadata": {},
     "output_type": "execute_result"
    }
   ],
   "source": [
    "#latest release year\n",
    "max(df.release_year)"
   ]
  },
  {
   "cell_type": "code",
   "execution_count": 9,
   "metadata": {
    "execution": {
     "iopub.execute_input": "2023-01-06T14:34:55.034516Z",
     "iopub.status.busy": "2023-01-06T14:34:55.034146Z",
     "iopub.status.idle": "2023-01-06T14:34:55.048236Z",
     "shell.execute_reply": "2023-01-06T14:34:55.047171Z",
     "shell.execute_reply.started": "2023-01-06T14:34:55.034483Z"
    }
   },
   "outputs": [
    {
     "data": {
      "text/plain": [
       "array(['Movie', 'TV Show'], dtype=object)"
      ]
     },
     "execution_count": 9,
     "metadata": {},
     "output_type": "execute_result"
    }
   ],
   "source": [
    "#categories of various kinds\n",
    "df['type'].unique()"
   ]
  },
  {
   "cell_type": "code",
   "execution_count": 10,
   "metadata": {
    "execution": {
     "iopub.execute_input": "2023-01-06T14:34:55.083603Z",
     "iopub.status.busy": "2023-01-06T14:34:55.083112Z",
     "iopub.status.idle": "2023-01-06T14:34:55.090757Z",
     "shell.execute_reply": "2023-01-06T14:34:55.089817Z",
     "shell.execute_reply.started": "2023-01-06T14:34:55.083546Z"
    }
   },
   "outputs": [
    {
     "data": {
      "text/plain": [
       "array(['PG-13', 'TV-MA', 'PG', 'TV-14', 'TV-PG', 'TV-Y', 'TV-Y7', 'R',\n",
       "       'TV-G', 'G', 'NC-17', '74 min', '84 min', '66 min', 'NR', nan,\n",
       "       'TV-Y7-FV', 'UR'], dtype=object)"
      ]
     },
     "execution_count": 10,
     "metadata": {},
     "output_type": "execute_result"
    }
   ],
   "source": [
    "#different age ratings\n",
    "df['rating'].unique()\n"
   ]
  },
  {
   "cell_type": "code",
   "execution_count": 11,
   "metadata": {
    "execution": {
     "iopub.execute_input": "2023-01-06T14:34:55.093723Z",
     "iopub.status.busy": "2023-01-06T14:34:55.093321Z",
     "iopub.status.idle": "2023-01-06T14:34:55.128229Z",
     "shell.execute_reply": "2023-01-06T14:34:55.127018Z",
     "shell.execute_reply.started": "2023-01-06T14:34:55.093689Z"
    }
   },
   "outputs": [
    {
     "data": {
      "text/plain": [
       "['Documentaries',\n",
       " 'International TV Shows',\n",
       " 'TV Dramas',\n",
       " 'TV Mysteries',\n",
       " 'Crime TV Shows',\n",
       " 'TV Action & Adventure',\n",
       " 'Docuseries',\n",
       " 'Reality TV',\n",
       " 'Romantic TV Shows',\n",
       " 'TV Comedies',\n",
       " 'TV Horror',\n",
       " 'Children & Family Movies',\n",
       " 'Dramas',\n",
       " 'Independent Movies',\n",
       " 'International Movies',\n",
       " 'British TV Shows',\n",
       " 'Comedies',\n",
       " 'Spanish-Language TV Shows',\n",
       " 'Thrillers',\n",
       " 'Romantic Movies',\n",
       " 'Music & Musicals',\n",
       " 'Horror Movies',\n",
       " 'Sci-Fi & Fantasy',\n",
       " 'TV Thrillers',\n",
       " \"Kids' TV\",\n",
       " 'Action & Adventure',\n",
       " 'TV Sci-Fi & Fantasy',\n",
       " 'Classic Movies',\n",
       " 'Anime Features',\n",
       " 'Sports Movies',\n",
       " 'Anime Series',\n",
       " 'Korean TV Shows',\n",
       " 'Science & Nature TV',\n",
       " 'Teen TV Shows',\n",
       " 'Cult Movies',\n",
       " 'TV Shows',\n",
       " 'Faith & Spirituality',\n",
       " 'LGBTQ Movies',\n",
       " 'Stand-Up Comedy',\n",
       " 'Movies',\n",
       " 'Stand-Up Comedy & Talk Shows',\n",
       " 'Classic & Cult TV']"
      ]
     },
     "execution_count": 11,
     "metadata": {},
     "output_type": "execute_result"
    }
   ],
   "source": [
    "# different genres\n",
    "\n",
    "genre_list  =  pd.unique(df.listed_in.str.split(\",\", expand =  True).stack())\n",
    "for i  in range(len(genre_list)):\n",
    "    genre_list[i] = genre_list[i].strip()\n",
    "\n",
    "genre_list =  list(pd.unique(genre_list))\n",
    "genre_list\n",
    "\n",
    "\n"
   ]
  },
  {
   "cell_type": "markdown",
   "metadata": {},
   "source": [
    "### Observations\n",
    "* Scope of the data is from the year 1925 to 2021.\n",
    "* There are no duplicates in the data.\n",
    "* Column 'date_added' should be conveverted into datetime datatype.\n",
    "* Highest number of null values are present in the director  column followed by cast country and date_added\n",
    "* Rating columns has '74 min' , '66min' and '84 min' as ratings and also 'NR'(not rated) , 'UR'(unrated) are practically the same thing,both issues must be resloved.\n",
    "* date_added  column could be futher divided into new colums based on year and month\n",
    "* Listed_in column should be renamed to 'Genre' for ease\n"
   ]
  },
  {
   "cell_type": "markdown",
   "metadata": {},
   "source": [
    "#  <center> 3. 🧹🧼Cleaning</center>"
   ]
  },
  {
   "cell_type": "markdown",
   "metadata": {},
   "source": [
    "# 3.1 Cleaning string columns"
   ]
  },
  {
   "cell_type": "code",
   "execution_count": 12,
   "metadata": {
    "execution": {
     "iopub.execute_input": "2023-01-06T14:34:55.130223Z",
     "iopub.status.busy": "2023-01-06T14:34:55.129790Z",
     "iopub.status.idle": "2023-01-06T14:34:55.179227Z",
     "shell.execute_reply": "2023-01-06T14:34:55.177912Z",
     "shell.execute_reply.started": "2023-01-06T14:34:55.130191Z"
    }
   },
   "outputs": [],
   "source": [
    "#Removing Whitspaces from columns containing strings\n",
    "\n",
    "columns  = list(df.columns)\n",
    "columns.remove('release_year')\n",
    "\n",
    "for i in columns:\n",
    "    df[i] = df[i].str.strip()\n"
   ]
  },
  {
   "cell_type": "code",
   "execution_count": 13,
   "metadata": {
    "execution": {
     "iopub.execute_input": "2023-01-06T14:34:55.183177Z",
     "iopub.status.busy": "2023-01-06T14:34:55.182701Z",
     "iopub.status.idle": "2023-01-06T14:34:55.195751Z",
     "shell.execute_reply": "2023-01-06T14:34:55.194458Z",
     "shell.execute_reply.started": "2023-01-06T14:34:55.183138Z"
    }
   },
   "outputs": [],
   "source": [
    "#Replacing nan with \"\" in string datatype columns\n",
    "\n",
    "str_cols =['director', 'cast', 'country', 'rating', 'date_added']\n",
    "\n",
    "for column in str_cols:\n",
    "    df[column] = df[column].fillna(\"\")"
   ]
  },
  {
   "cell_type": "code",
   "execution_count": 14,
   "metadata": {
    "execution": {
     "iopub.execute_input": "2023-01-06T14:34:55.199100Z",
     "iopub.status.busy": "2023-01-06T14:34:55.198711Z",
     "iopub.status.idle": "2023-01-06T14:34:55.211093Z",
     "shell.execute_reply": "2023-01-06T14:34:55.209603Z",
     "shell.execute_reply.started": "2023-01-06T14:34:55.199064Z"
    }
   },
   "outputs": [],
   "source": [
    "#Renaming listed_in column\n",
    "\n",
    "df  = df.rename(columns= {'listed_in':'Genre'})\n"
   ]
  },
  {
   "cell_type": "markdown",
   "metadata": {},
   "source": [
    "# 3.2 Fixing Rating Column"
   ]
  },
  {
   "cell_type": "code",
   "execution_count": 15,
   "metadata": {
    "execution": {
     "iopub.execute_input": "2023-01-06T14:34:55.213279Z",
     "iopub.status.busy": "2023-01-06T14:34:55.212860Z",
     "iopub.status.idle": "2023-01-06T14:34:55.320650Z",
     "shell.execute_reply": "2023-01-06T14:34:55.319479Z",
     "shell.execute_reply.started": "2023-01-06T14:34:55.213243Z"
    }
   },
   "outputs": [
    {
     "name": "stderr",
     "output_type": "stream",
     "text": [
      "C:\\Users\\Asus-pc\\anaconda3\\lib\\site-packages\\pandas\\core\\indexing.py:1732: SettingWithCopyWarning: \n",
      "A value is trying to be set on a copy of a slice from a DataFrame\n",
      "\n",
      "See the caveats in the documentation: https://pandas.pydata.org/pandas-docs/stable/user_guide/indexing.html#returning-a-view-versus-a-copy\n",
      "  self._setitem_single_block(indexer, value, name)\n"
     ]
    },
    {
     "data": {
      "text/plain": [
       "array(['PG-13', 'TV-MA', 'PG', 'TV-14', 'TV-PG', 'TV-Y', 'TV-Y7', 'R',\n",
       "       'TV-G', 'G', 'NC-17', '74 min', '84 min', '66 min', 'NR', '',\n",
       "       'TV-Y7-FV'], dtype=object)"
      ]
     },
     "execution_count": 15,
     "metadata": {},
     "output_type": "execute_result"
    }
   ],
   "source": [
    "#1. Adding all the columns with rating 'UR' into 'NR'\n",
    "for i in range(len(df)):\n",
    "    if df['rating'].iloc[i] == 'UR':\n",
    "        df['rating'].iloc[i] = 'NR'\n",
    "\n",
    "#Making sure it worked\n",
    "df['rating'].unique()"
   ]
  },
  {
   "cell_type": "code",
   "execution_count": 16,
   "metadata": {
    "execution": {
     "iopub.execute_input": "2023-01-06T14:34:55.323067Z",
     "iopub.status.busy": "2023-01-06T14:34:55.322623Z",
     "iopub.status.idle": "2023-01-06T14:34:55.426595Z",
     "shell.execute_reply": "2023-01-06T14:34:55.425429Z",
     "shell.execute_reply.started": "2023-01-06T14:34:55.323023Z"
    }
   },
   "outputs": [
    {
     "name": "stdout",
     "output_type": "stream",
     "text": [
      "show_id                                                     s5542\n",
      "type                                                        Movie\n",
      "title                                             Louis C.K. 2017\n",
      "director                                               Louis C.K.\n",
      "cast                                                   Louis C.K.\n",
      "country                                             United States\n",
      "date_added                                          April 4, 2017\n",
      "release_year                                                 2017\n",
      "rating                                                     74 min\n",
      "duration                                                      NaN\n",
      "Genre                                                      Movies\n",
      "description     Louis C.K. muses on religion, eternal love, gi...\n",
      "Name: 5541, dtype: object\n",
      "show_id                                                     s5795\n",
      "type                                                        Movie\n",
      "title                                       Louis C.K.: Hilarious\n",
      "director                                               Louis C.K.\n",
      "cast                                                   Louis C.K.\n",
      "country                                             United States\n",
      "date_added                                     September 16, 2016\n",
      "release_year                                                 2010\n",
      "rating                                                     84 min\n",
      "duration                                                      NaN\n",
      "Genre                                                      Movies\n",
      "description     Emmy-winning comedy writer Louis C.K. brings h...\n",
      "Name: 5794, dtype: object\n",
      "show_id                                                     s5814\n",
      "type                                                        Movie\n",
      "title                        Louis C.K.: Live at the Comedy Store\n",
      "director                                               Louis C.K.\n",
      "cast                                                   Louis C.K.\n",
      "country                                             United States\n",
      "date_added                                        August 15, 2016\n",
      "release_year                                                 2015\n",
      "rating                                                     66 min\n",
      "duration                                                      NaN\n",
      "Genre                                                      Movies\n",
      "description     The comic puts his trademark hilarious/thought...\n",
      "Name: 5813, dtype: object\n"
     ]
    }
   ],
   "source": [
    "#2.Inspecting columns with '77min' , '66min' , '84min' rating\n",
    "weird_rating = ['74 min', '84 min', '66 min']\n",
    "for i in range(len(df)):\n",
    "    if df['rating'].iloc[i] in weird_rating:\n",
    "        print(df.iloc[i])\n"
   ]
  },
  {
   "cell_type": "markdown",
   "metadata": {},
   "source": [
    "#### Upon inspection,it appears that These weird ratings actually belong in the  duration column.\n",
    "\n",
    "#### let's make it so"
   ]
  },
  {
   "cell_type": "code",
   "execution_count": 17,
   "metadata": {
    "execution": {
     "iopub.execute_input": "2023-01-06T14:34:55.428659Z",
     "iopub.status.busy": "2023-01-06T14:34:55.428252Z",
     "iopub.status.idle": "2023-01-06T14:34:55.442237Z",
     "shell.execute_reply": "2023-01-06T14:34:55.441096Z",
     "shell.execute_reply.started": "2023-01-06T14:34:55.428624Z"
    }
   },
   "outputs": [
    {
     "name": "stdout",
     "output_type": "stream",
     "text": [
      "show_id                                                     s5795\n",
      "type                                                        Movie\n",
      "title                                       Louis C.K.: Hilarious\n",
      "director                                               Louis C.K.\n",
      "cast                                                   Louis C.K.\n",
      "country                                             United States\n",
      "date_added                                     September 16, 2016\n",
      "release_year                                                 2010\n",
      "rating                                                         NR\n",
      "duration                                                       84\n",
      "Genre                                                      Movies\n",
      "description     Emmy-winning comedy writer Louis C.K. brings h...\n",
      "Name: 5794, dtype: object\n",
      "show_id                                                     s5542\n",
      "type                                                        Movie\n",
      "title                                             Louis C.K. 2017\n",
      "director                                               Louis C.K.\n",
      "cast                                                   Louis C.K.\n",
      "country                                             United States\n",
      "date_added                                          April 4, 2017\n",
      "release_year                                                 2017\n",
      "rating                                                         NR\n",
      "duration                                                       74\n",
      "Genre                                                      Movies\n",
      "description     Louis C.K. muses on religion, eternal love, gi...\n",
      "Name: 5541, dtype: object\n",
      "show_id                                                     s5814\n",
      "type                                                        Movie\n",
      "title                        Louis C.K.: Live at the Comedy Store\n",
      "director                                               Louis C.K.\n",
      "cast                                                   Louis C.K.\n",
      "country                                             United States\n",
      "date_added                                        August 15, 2016\n",
      "release_year                                                 2015\n",
      "rating                                                         NR\n",
      "duration                                                       66\n",
      "Genre                                                      Movies\n",
      "description     The comic puts his trademark hilarious/thought...\n",
      "Name: 5813, dtype: object\n"
     ]
    }
   ],
   "source": [
    "#Moving wrong ratings to duration \n",
    "index  = [ 5794,5541,5813]\n",
    "\n",
    "for i in index:\n",
    "    x =  df[\"rating\"].iloc[i].split(\" \")\n",
    "    du =  x[0]\n",
    "    df['duration'].iloc[i] = du\n",
    "    df['rating'].iloc[i] = 'NR'\n",
    "\n",
    "\n",
    "#Checking to make sure it worked\n",
    "for i in index:\n",
    "    print(df.iloc[i])"
   ]
  },
  {
   "cell_type": "markdown",
   "metadata": {},
   "source": [
    "   # 3.3 Splitting Date added into multiple columns"
   ]
  },
  {
   "cell_type": "code",
   "execution_count": 18,
   "metadata": {
    "execution": {
     "iopub.execute_input": "2023-01-06T14:34:55.444021Z",
     "iopub.status.busy": "2023-01-06T14:34:55.443662Z",
     "iopub.status.idle": "2023-01-06T14:34:55.752992Z",
     "shell.execute_reply": "2023-01-06T14:34:55.751774Z",
     "shell.execute_reply.started": "2023-01-06T14:34:55.443989Z"
    }
   },
   "outputs": [
    {
     "name": "stdout",
     "output_type": "stream",
     "text": [
      "{0, 1, 2, 3, 4, 5, 6, 7, 8, 9, 10, 11, 12}\n",
      "{'2009', 0, '2018', '2013', '2017', '2021', '2014', '2011', '2016', '2008', '2019', '2020', '2010', '2015', '2012'}\n"
     ]
    }
   ],
   "source": [
    "#Splitting date_added into multiple columns\n",
    "\n",
    "#1.rows with null values\n",
    "null_rows = []\n",
    "for i in range(len(df)):\n",
    "    if df['date_added'].iloc[i] == \"\":\n",
    "        null_rows.append(i)\n",
    "\n",
    "#2. Month and year\n",
    "month_added = []\n",
    "year_added = []\n",
    "\n",
    "for i in range(len(df)):\n",
    "    #replacing nan values with 0\n",
    "    if i in null_rows:\n",
    "        month_added.append(0)\n",
    "        year_added.append(0)\n",
    "    else:\n",
    "        date  =  df['date_added'].iloc[i].split(\" \")\n",
    "        month_added.append(date[0])\n",
    "        year_added.append(date[2])\n",
    "\n",
    "#3.Turning month into month number\n",
    "for i,month in enumerate(month_added):\n",
    "    if month !=  0:\n",
    "        datetime_obj = datetime.strptime(month ,\"%B\")\n",
    "        month_number = datetime_obj.month\n",
    "        month_added[i] = month_number\n",
    "\n",
    "\n",
    "#checking \n",
    "\n",
    "print(set(month_added))\n",
    "print(set(year_added))\n",
    "\n",
    "#inserting new columns into the dataframe\n",
    "\n",
    "df.insert(7, \"month_added\" , month_added , allow_duplicates=  True)\n",
    "df.insert(8, \"year_added\" , year_added , allow_duplicates=  True)\n",
    "        "
   ]
  },
  {
   "cell_type": "markdown",
   "metadata": {},
   "source": [
    "# 3.4 Getting a list of countries "
   ]
  },
  {
   "cell_type": "code",
   "execution_count": 19,
   "metadata": {
    "execution": {
     "iopub.execute_input": "2023-01-06T15:35:00.242135Z",
     "iopub.status.busy": "2023-01-06T15:35:00.241723Z",
     "iopub.status.idle": "2023-01-06T15:35:00.248999Z",
     "shell.execute_reply": "2023-01-06T15:35:00.247766Z",
     "shell.execute_reply.started": "2023-01-06T15:35:00.242102Z"
    }
   },
   "outputs": [],
   "source": [
    "#Creating a function obtain unique values from columns containing strings\n",
    "def getset(data):\n",
    "    data_list =  set()\n",
    "    for v in data:\n",
    "        values = v.split(\", \")\n",
    "        for i  in values:\n",
    "            data_list.add(i)\n",
    "    return list(data_list)"
   ]
  },
  {
   "cell_type": "code",
   "execution_count": 20,
   "metadata": {
    "execution": {
     "iopub.execute_input": "2023-01-06T15:35:02.382522Z",
     "iopub.status.busy": "2023-01-06T15:35:02.381732Z",
     "iopub.status.idle": "2023-01-06T15:35:02.395491Z",
     "shell.execute_reply": "2023-01-06T15:35:02.394491Z",
     "shell.execute_reply.started": "2023-01-06T15:35:02.382479Z"
    }
   },
   "outputs": [
    {
     "data": {
      "text/plain": [
       "['',\n",
       " 'Finland',\n",
       " 'Senegal',\n",
       " 'Netherlands',\n",
       " 'Thailand',\n",
       " 'Malawi',\n",
       " 'Venezuela',\n",
       " 'Pakistan',\n",
       " 'Italy',\n",
       " 'Paraguay',\n",
       " 'Canada',\n",
       " 'South Korea',\n",
       " 'Ukraine',\n",
       " 'Panama',\n",
       " 'Luxembourg',\n",
       " 'Uruguay',\n",
       " 'Armenia',\n",
       " 'Angola',\n",
       " 'Philippines',\n",
       " 'Azerbaijan',\n",
       " 'New Zealand',\n",
       " 'East Germany',\n",
       " 'Botswana',\n",
       " 'Belarus',\n",
       " 'United Kingdom',\n",
       " 'Belgium',\n",
       " 'Malaysia',\n",
       " 'Burkina Faso',\n",
       " 'Czech Republic',\n",
       " 'Montenegro',\n",
       " 'Cambodia,',\n",
       " 'Qatar',\n",
       " 'Iceland',\n",
       " 'Georgia',\n",
       " 'Taiwan',\n",
       " 'Ireland',\n",
       " 'Mexico',\n",
       " 'Brazil',\n",
       " 'Lebanon',\n",
       " 'Kenya',\n",
       " 'Syria',\n",
       " 'Colombia',\n",
       " 'Albania',\n",
       " 'Zimbabwe',\n",
       " 'Hungary',\n",
       " 'Saudi Arabia',\n",
       " 'Cyprus',\n",
       " 'Greece',\n",
       " 'Namibia',\n",
       " 'France',\n",
       " 'Switzerland',\n",
       " 'Poland,',\n",
       " 'Bulgaria',\n",
       " 'Sweden',\n",
       " 'Guatemala',\n",
       " 'Australia',\n",
       " 'Sri Lanka',\n",
       " 'Jamaica',\n",
       " 'Mauritius',\n",
       " 'Iraq',\n",
       " 'Latvia',\n",
       " 'Slovenia',\n",
       " 'Cambodia',\n",
       " 'Israel',\n",
       " 'Dominican Republic',\n",
       " 'Slovakia',\n",
       " 'Peru',\n",
       " 'Lithuania',\n",
       " 'Denmark',\n",
       " 'China',\n",
       " 'Nepal',\n",
       " 'Ghana',\n",
       " 'Malta',\n",
       " 'Russia',\n",
       " 'Serbia',\n",
       " 'United Kingdom,',\n",
       " 'West Germany',\n",
       " 'South Africa',\n",
       " 'Samoa',\n",
       " 'Turkey',\n",
       " 'Sudan',\n",
       " 'Bahamas',\n",
       " 'Ethiopia',\n",
       " 'Hong Kong',\n",
       " 'Croatia',\n",
       " 'Cameroon',\n",
       " 'Portugal',\n",
       " 'Uganda',\n",
       " 'Indonesia',\n",
       " 'United Arab Emirates',\n",
       " 'India',\n",
       " 'United States',\n",
       " 'Jordan',\n",
       " 'Vietnam',\n",
       " 'Austria',\n",
       " 'Singapore',\n",
       " 'Bangladesh',\n",
       " 'Bermuda',\n",
       " 'Liechtenstein',\n",
       " 'Palestine',\n",
       " 'Mozambique',\n",
       " 'Nigeria',\n",
       " 'Somalia',\n",
       " 'Egypt',\n",
       " 'Ecuador',\n",
       " 'Vatican City',\n",
       " 'United States,',\n",
       " 'Norway',\n",
       " 'Mongolia',\n",
       " 'Kazakhstan',\n",
       " 'Chile',\n",
       " 'Soviet Union',\n",
       " 'Poland',\n",
       " 'Nicaragua',\n",
       " 'Cayman Islands',\n",
       " 'Romania',\n",
       " 'Algeria',\n",
       " 'Cuba',\n",
       " 'Argentina',\n",
       " 'Germany',\n",
       " 'Spain',\n",
       " 'Puerto Rico',\n",
       " 'Japan',\n",
       " 'Iran',\n",
       " 'Morocco',\n",
       " 'Afghanistan',\n",
       " 'Kuwait']"
      ]
     },
     "execution_count": 20,
     "metadata": {},
     "output_type": "execute_result"
    }
   ],
   "source": [
    "Country_list  =  getset(df['country'])\n",
    "Country_list"
   ]
  },
  {
   "cell_type": "markdown",
   "metadata": {},
   "source": [
    "# 3.5 Dropping columns not required"
   ]
  },
  {
   "cell_type": "code",
   "execution_count": 21,
   "metadata": {
    "execution": {
     "iopub.execute_input": "2023-01-06T14:34:55.785774Z",
     "iopub.status.busy": "2023-01-06T14:34:55.784792Z",
     "iopub.status.idle": "2023-01-06T14:34:55.827291Z",
     "shell.execute_reply": "2023-01-06T14:34:55.826437Z",
     "shell.execute_reply.started": "2023-01-06T14:34:55.785725Z"
    }
   },
   "outputs": [
    {
     "data": {
      "text/html": [
       "<div>\n",
       "<style scoped>\n",
       "    .dataframe tbody tr th:only-of-type {\n",
       "        vertical-align: middle;\n",
       "    }\n",
       "\n",
       "    .dataframe tbody tr th {\n",
       "        vertical-align: top;\n",
       "    }\n",
       "\n",
       "    .dataframe thead th {\n",
       "        text-align: right;\n",
       "    }\n",
       "</style>\n",
       "<table border=\"1\" class=\"dataframe\">\n",
       "  <thead>\n",
       "    <tr style=\"text-align: right;\">\n",
       "      <th></th>\n",
       "      <th>show_id</th>\n",
       "      <th>type</th>\n",
       "      <th>title</th>\n",
       "      <th>director</th>\n",
       "      <th>country</th>\n",
       "      <th>date_added</th>\n",
       "      <th>month_added</th>\n",
       "      <th>year_added</th>\n",
       "      <th>release_year</th>\n",
       "      <th>rating</th>\n",
       "      <th>duration</th>\n",
       "      <th>Genre</th>\n",
       "    </tr>\n",
       "  </thead>\n",
       "  <tbody>\n",
       "    <tr>\n",
       "      <th>0</th>\n",
       "      <td>s1</td>\n",
       "      <td>Movie</td>\n",
       "      <td>Dick Johnson Is Dead</td>\n",
       "      <td>Kirsten Johnson</td>\n",
       "      <td>United States</td>\n",
       "      <td>September 25, 2021</td>\n",
       "      <td>9</td>\n",
       "      <td>2021</td>\n",
       "      <td>2020</td>\n",
       "      <td>PG-13</td>\n",
       "      <td>90 min</td>\n",
       "      <td>Documentaries</td>\n",
       "    </tr>\n",
       "    <tr>\n",
       "      <th>1</th>\n",
       "      <td>s2</td>\n",
       "      <td>TV Show</td>\n",
       "      <td>Blood &amp; Water</td>\n",
       "      <td></td>\n",
       "      <td>South Africa</td>\n",
       "      <td>September 24, 2021</td>\n",
       "      <td>9</td>\n",
       "      <td>2021</td>\n",
       "      <td>2021</td>\n",
       "      <td>TV-MA</td>\n",
       "      <td>2 Seasons</td>\n",
       "      <td>International TV Shows, TV Dramas, TV Mysteries</td>\n",
       "    </tr>\n",
       "    <tr>\n",
       "      <th>2</th>\n",
       "      <td>s3</td>\n",
       "      <td>TV Show</td>\n",
       "      <td>Ganglands</td>\n",
       "      <td>Julien Leclercq</td>\n",
       "      <td></td>\n",
       "      <td>September 24, 2021</td>\n",
       "      <td>9</td>\n",
       "      <td>2021</td>\n",
       "      <td>2021</td>\n",
       "      <td>TV-MA</td>\n",
       "      <td>1 Season</td>\n",
       "      <td>Crime TV Shows, International TV Shows, TV Act...</td>\n",
       "    </tr>\n",
       "    <tr>\n",
       "      <th>3</th>\n",
       "      <td>s4</td>\n",
       "      <td>TV Show</td>\n",
       "      <td>Jailbirds New Orleans</td>\n",
       "      <td></td>\n",
       "      <td></td>\n",
       "      <td>September 24, 2021</td>\n",
       "      <td>9</td>\n",
       "      <td>2021</td>\n",
       "      <td>2021</td>\n",
       "      <td>TV-MA</td>\n",
       "      <td>1 Season</td>\n",
       "      <td>Docuseries, Reality TV</td>\n",
       "    </tr>\n",
       "    <tr>\n",
       "      <th>4</th>\n",
       "      <td>s5</td>\n",
       "      <td>TV Show</td>\n",
       "      <td>Kota Factory</td>\n",
       "      <td></td>\n",
       "      <td>India</td>\n",
       "      <td>September 24, 2021</td>\n",
       "      <td>9</td>\n",
       "      <td>2021</td>\n",
       "      <td>2021</td>\n",
       "      <td>TV-MA</td>\n",
       "      <td>2 Seasons</td>\n",
       "      <td>International TV Shows, Romantic TV Shows, TV ...</td>\n",
       "    </tr>\n",
       "    <tr>\n",
       "      <th>...</th>\n",
       "      <td>...</td>\n",
       "      <td>...</td>\n",
       "      <td>...</td>\n",
       "      <td>...</td>\n",
       "      <td>...</td>\n",
       "      <td>...</td>\n",
       "      <td>...</td>\n",
       "      <td>...</td>\n",
       "      <td>...</td>\n",
       "      <td>...</td>\n",
       "      <td>...</td>\n",
       "      <td>...</td>\n",
       "    </tr>\n",
       "    <tr>\n",
       "      <th>8802</th>\n",
       "      <td>s8803</td>\n",
       "      <td>Movie</td>\n",
       "      <td>Zodiac</td>\n",
       "      <td>David Fincher</td>\n",
       "      <td>United States</td>\n",
       "      <td>November 20, 2019</td>\n",
       "      <td>11</td>\n",
       "      <td>2019</td>\n",
       "      <td>2007</td>\n",
       "      <td>R</td>\n",
       "      <td>158 min</td>\n",
       "      <td>Cult Movies, Dramas, Thrillers</td>\n",
       "    </tr>\n",
       "    <tr>\n",
       "      <th>8803</th>\n",
       "      <td>s8804</td>\n",
       "      <td>TV Show</td>\n",
       "      <td>Zombie Dumb</td>\n",
       "      <td></td>\n",
       "      <td></td>\n",
       "      <td>July 1, 2019</td>\n",
       "      <td>7</td>\n",
       "      <td>2019</td>\n",
       "      <td>2018</td>\n",
       "      <td>TV-Y7</td>\n",
       "      <td>2 Seasons</td>\n",
       "      <td>Kids' TV, Korean TV Shows, TV Comedies</td>\n",
       "    </tr>\n",
       "    <tr>\n",
       "      <th>8804</th>\n",
       "      <td>s8805</td>\n",
       "      <td>Movie</td>\n",
       "      <td>Zombieland</td>\n",
       "      <td>Ruben Fleischer</td>\n",
       "      <td>United States</td>\n",
       "      <td>November 1, 2019</td>\n",
       "      <td>11</td>\n",
       "      <td>2019</td>\n",
       "      <td>2009</td>\n",
       "      <td>R</td>\n",
       "      <td>88 min</td>\n",
       "      <td>Comedies, Horror Movies</td>\n",
       "    </tr>\n",
       "    <tr>\n",
       "      <th>8805</th>\n",
       "      <td>s8806</td>\n",
       "      <td>Movie</td>\n",
       "      <td>Zoom</td>\n",
       "      <td>Peter Hewitt</td>\n",
       "      <td>United States</td>\n",
       "      <td>January 11, 2020</td>\n",
       "      <td>1</td>\n",
       "      <td>2020</td>\n",
       "      <td>2006</td>\n",
       "      <td>PG</td>\n",
       "      <td>88 min</td>\n",
       "      <td>Children &amp; Family Movies, Comedies</td>\n",
       "    </tr>\n",
       "    <tr>\n",
       "      <th>8806</th>\n",
       "      <td>s8807</td>\n",
       "      <td>Movie</td>\n",
       "      <td>Zubaan</td>\n",
       "      <td>Mozez Singh</td>\n",
       "      <td>India</td>\n",
       "      <td>March 2, 2019</td>\n",
       "      <td>3</td>\n",
       "      <td>2019</td>\n",
       "      <td>2015</td>\n",
       "      <td>TV-14</td>\n",
       "      <td>111 min</td>\n",
       "      <td>Dramas, International Movies, Music &amp; Musicals</td>\n",
       "    </tr>\n",
       "  </tbody>\n",
       "</table>\n",
       "<p>8807 rows × 12 columns</p>\n",
       "</div>"
      ],
      "text/plain": [
       "     show_id     type                  title         director        country  \\\n",
       "0         s1    Movie   Dick Johnson Is Dead  Kirsten Johnson  United States   \n",
       "1         s2  TV Show          Blood & Water                    South Africa   \n",
       "2         s3  TV Show              Ganglands  Julien Leclercq                  \n",
       "3         s4  TV Show  Jailbirds New Orleans                                   \n",
       "4         s5  TV Show           Kota Factory                           India   \n",
       "...      ...      ...                    ...              ...            ...   \n",
       "8802   s8803    Movie                 Zodiac    David Fincher  United States   \n",
       "8803   s8804  TV Show            Zombie Dumb                                   \n",
       "8804   s8805    Movie             Zombieland  Ruben Fleischer  United States   \n",
       "8805   s8806    Movie                   Zoom     Peter Hewitt  United States   \n",
       "8806   s8807    Movie                 Zubaan      Mozez Singh          India   \n",
       "\n",
       "              date_added  month_added year_added  release_year rating  \\\n",
       "0     September 25, 2021            9       2021          2020  PG-13   \n",
       "1     September 24, 2021            9       2021          2021  TV-MA   \n",
       "2     September 24, 2021            9       2021          2021  TV-MA   \n",
       "3     September 24, 2021            9       2021          2021  TV-MA   \n",
       "4     September 24, 2021            9       2021          2021  TV-MA   \n",
       "...                  ...          ...        ...           ...    ...   \n",
       "8802   November 20, 2019           11       2019          2007      R   \n",
       "8803        July 1, 2019            7       2019          2018  TV-Y7   \n",
       "8804    November 1, 2019           11       2019          2009      R   \n",
       "8805    January 11, 2020            1       2020          2006     PG   \n",
       "8806       March 2, 2019            3       2019          2015  TV-14   \n",
       "\n",
       "       duration                                              Genre  \n",
       "0        90 min                                      Documentaries  \n",
       "1     2 Seasons    International TV Shows, TV Dramas, TV Mysteries  \n",
       "2      1 Season  Crime TV Shows, International TV Shows, TV Act...  \n",
       "3      1 Season                             Docuseries, Reality TV  \n",
       "4     2 Seasons  International TV Shows, Romantic TV Shows, TV ...  \n",
       "...         ...                                                ...  \n",
       "8802    158 min                     Cult Movies, Dramas, Thrillers  \n",
       "8803  2 Seasons             Kids' TV, Korean TV Shows, TV Comedies  \n",
       "8804     88 min                            Comedies, Horror Movies  \n",
       "8805     88 min                 Children & Family Movies, Comedies  \n",
       "8806    111 min     Dramas, International Movies, Music & Musicals  \n",
       "\n",
       "[8807 rows x 12 columns]"
      ]
     },
     "execution_count": 21,
     "metadata": {},
     "output_type": "execute_result"
    }
   ],
   "source": [
    "df =  df.drop(columns = ['description' , 'cast'])\n",
    "df"
   ]
  },
  {
   "cell_type": "markdown",
   "metadata": {},
   "source": [
    "#  <center> 4.🔎📊Analysis</center>"
   ]
  },
  {
   "cell_type": "markdown",
   "metadata": {},
   "source": [
    "## 4.1 What is the ratio of shows Vs movies on Netflix?"
   ]
  },
  {
   "cell_type": "code",
   "execution_count": 22,
   "metadata": {
    "execution": {
     "iopub.execute_input": "2023-01-06T14:34:55.829178Z",
     "iopub.status.busy": "2023-01-06T14:34:55.828400Z",
     "iopub.status.idle": "2023-01-06T14:34:56.056393Z",
     "shell.execute_reply": "2023-01-06T14:34:56.054774Z",
     "shell.execute_reply.started": "2023-01-06T14:34:55.829126Z"
    }
   },
   "outputs": [
    {
     "data": {
      "text/plain": [
       "<matplotlib.legend.Legend at 0x2284f494670>"
      ]
     },
     "execution_count": 22,
     "metadata": {},
     "output_type": "execute_result"
    },
    {
     "data": {
      "image/png": "[encoded data removed]",
      "text/plain": [
       "<Figure size 1080x576 with 1 Axes>"
      ]
     },
     "metadata": {},
     "output_type": "display_data"
    }
   ],
   "source": [
    "#Creating two variables fstoring number of tv_shows and movies respectively\n",
    "x = df['type'].value_counts()\n",
    "Movies =  x[0]\n",
    "TV_shows =  x[1]\n",
    "\n",
    "#Creating pie chart\n",
    "ax =  plt.subplots(figsize = (15,8))\n",
    "explode =  [0,0.1]\n",
    "colors = [\"blue\", \"green\"]\n",
    "slices = [Movies , TV_shows]\n",
    "labels = ['Movies','TV_shows']\n",
    "\n",
    "plt.pie(slices , labels = labels, colors =  colors ,explode =  explode,autopct = \"%1.1f%%\" )\n",
    "plt.legend()\n"
   ]
  },
  {
   "cell_type": "markdown",
   "metadata": {},
   "source": [
    "## 4.2 What amount of content was added each year?"
   ]
  },
  {
   "cell_type": "code",
   "execution_count": 23,
   "metadata": {
    "execution": {
     "iopub.execute_input": "2023-01-06T14:49:33.350760Z",
     "iopub.status.busy": "2023-01-06T14:49:33.350358Z",
     "iopub.status.idle": "2023-01-06T14:49:33.675627Z",
     "shell.execute_reply": "2023-01-06T14:49:33.674329Z",
     "shell.execute_reply.started": "2023-01-06T14:49:33.350727Z"
    }
   },
   "outputs": [
    {
     "data": {
      "text/plain": [
       "<AxesSubplot:xlabel='year_added', ylabel='count'>"
      ]
     },
     "execution_count": 23,
     "metadata": {},
     "output_type": "execute_result"
    },
    {
     "data": {
      "image/png": "[encoded data removed]",
      "text/plain": [
       "<Figure size 1080x576 with 1 Axes>"
      ]
     },
     "metadata": {
      "needs_background": "light"
     },
     "output_type": "display_data"
    }
   ],
   "source": [
    "ax =  plt.subplots(figsize = (15,8))\n",
    "sns.countplot(data =  df , x = 'year_added')"
   ]
  },
  {
   "cell_type": "markdown",
   "metadata": {},
   "source": [
    "## 4.3 What are some of the oldest Tv shows and movies on Netflix?"
   ]
  },
  {
   "cell_type": "code",
   "execution_count": 24,
   "metadata": {
    "execution": {
     "iopub.execute_input": "2023-01-06T15:07:36.260845Z",
     "iopub.status.busy": "2023-01-06T15:07:36.259632Z",
     "iopub.status.idle": "2023-01-06T15:07:36.279132Z",
     "shell.execute_reply": "2023-01-06T15:07:36.277843Z",
     "shell.execute_reply.started": "2023-01-06T15:07:36.260795Z"
    }
   },
   "outputs": [
    {
     "data": {
      "text/html": [
       "<div>\n",
       "<style scoped>\n",
       "    .dataframe tbody tr th:only-of-type {\n",
       "        vertical-align: middle;\n",
       "    }\n",
       "\n",
       "    .dataframe tbody tr th {\n",
       "        vertical-align: top;\n",
       "    }\n",
       "\n",
       "    .dataframe thead th {\n",
       "        text-align: right;\n",
       "    }\n",
       "</style>\n",
       "<table border=\"1\" class=\"dataframe\">\n",
       "  <thead>\n",
       "    <tr style=\"text-align: right;\">\n",
       "      <th></th>\n",
       "      <th>title</th>\n",
       "      <th>release_year</th>\n",
       "    </tr>\n",
       "  </thead>\n",
       "  <tbody>\n",
       "    <tr>\n",
       "      <th>4250</th>\n",
       "      <td>Pioneers: First Women Filmmakers*</td>\n",
       "      <td>1925</td>\n",
       "    </tr>\n",
       "    <tr>\n",
       "      <th>7790</th>\n",
       "      <td>Prelude to War</td>\n",
       "      <td>1942</td>\n",
       "    </tr>\n",
       "    <tr>\n",
       "      <th>8205</th>\n",
       "      <td>The Battle of Midway</td>\n",
       "      <td>1942</td>\n",
       "    </tr>\n",
       "    <tr>\n",
       "      <th>8660</th>\n",
       "      <td>Undercover: How to Operate Behind Enemy Lines</td>\n",
       "      <td>1943</td>\n",
       "    </tr>\n",
       "    <tr>\n",
       "      <th>8739</th>\n",
       "      <td>Why We Fight: The Battle of Russia</td>\n",
       "      <td>1943</td>\n",
       "    </tr>\n",
       "    <tr>\n",
       "      <th>8763</th>\n",
       "      <td>WWII: Report from the Aleutians</td>\n",
       "      <td>1943</td>\n",
       "    </tr>\n",
       "    <tr>\n",
       "      <th>8640</th>\n",
       "      <td>Tunisian Victory</td>\n",
       "      <td>1944</td>\n",
       "    </tr>\n",
       "    <tr>\n",
       "      <th>8436</th>\n",
       "      <td>The Negro Soldier</td>\n",
       "      <td>1944</td>\n",
       "    </tr>\n",
       "    <tr>\n",
       "      <th>8419</th>\n",
       "      <td>The Memphis Belle: A Story of a\\nFlying Fortress</td>\n",
       "      <td>1944</td>\n",
       "    </tr>\n",
       "    <tr>\n",
       "      <th>7930</th>\n",
       "      <td>San Pietro</td>\n",
       "      <td>1945</td>\n",
       "    </tr>\n",
       "    <tr>\n",
       "      <th>1331</th>\n",
       "      <td>Five Came Back: The Reference Films</td>\n",
       "      <td>1945</td>\n",
       "    </tr>\n",
       "    <tr>\n",
       "      <th>7219</th>\n",
       "      <td>Know Your Enemy - Japan</td>\n",
       "      <td>1945</td>\n",
       "    </tr>\n",
       "    <tr>\n",
       "      <th>7575</th>\n",
       "      <td>Nazi Concentration Camps</td>\n",
       "      <td>1945</td>\n",
       "    </tr>\n",
       "    <tr>\n",
       "      <th>7743</th>\n",
       "      <td>Pioneers of African-American Cinema</td>\n",
       "      <td>1946</td>\n",
       "    </tr>\n",
       "    <tr>\n",
       "      <th>7294</th>\n",
       "      <td>Let There Be Light</td>\n",
       "      <td>1946</td>\n",
       "    </tr>\n",
       "  </tbody>\n",
       "</table>\n",
       "</div>"
      ],
      "text/plain": [
       "                                                 title  release_year\n",
       "4250                 Pioneers: First Women Filmmakers*          1925\n",
       "7790                                    Prelude to War          1942\n",
       "8205                              The Battle of Midway          1942\n",
       "8660     Undercover: How to Operate Behind Enemy Lines          1943\n",
       "8739                Why We Fight: The Battle of Russia          1943\n",
       "8763                   WWII: Report from the Aleutians          1943\n",
       "8640                                  Tunisian Victory          1944\n",
       "8436                                 The Negro Soldier          1944\n",
       "8419  The Memphis Belle: A Story of a\\nFlying Fortress          1944\n",
       "7930                                        San Pietro          1945\n",
       "1331               Five Came Back: The Reference Films          1945\n",
       "7219                           Know Your Enemy - Japan          1945\n",
       "7575                          Nazi Concentration Camps          1945\n",
       "7743               Pioneers of African-American Cinema          1946\n",
       "7294                                Let There Be Light          1946"
      ]
     },
     "execution_count": 24,
     "metadata": {},
     "output_type": "execute_result"
    }
   ],
   "source": [
    "oldies  =  df.sort_values('release_year' , ascending =  True)\n",
    "oldies[['title' ,'release_year']].head(15)"
   ]
  },
  {
   "cell_type": "markdown",
   "metadata": {},
   "source": [
    "## 4.4  What countries produce the most amount of content?"
   ]
  },
  {
   "cell_type": "code",
   "execution_count": 25,
   "metadata": {
    "execution": {
     "iopub.execute_input": "2023-01-06T15:42:35.214503Z",
     "iopub.status.busy": "2023-01-06T15:42:35.214092Z",
     "iopub.status.idle": "2023-01-06T15:42:35.238960Z",
     "shell.execute_reply": "2023-01-06T15:42:35.237479Z",
     "shell.execute_reply.started": "2023-01-06T15:42:35.214469Z"
    }
   },
   "outputs": [],
   "source": [
    "#modifying earlier function to create a list of country names \n",
    "def getlist(data):\n",
    "    data_list =  list()\n",
    "    for v in data:\n",
    "        values = v.split(\", \")\n",
    "        for i  in values:\n",
    "            data_list.append(i)\n",
    "    return list(data_list)\n",
    "\n",
    "#counting occurence of each countryname\n",
    "country_list =  getlist(df['country'])\n",
    "country_count = pd.value_counts(country_list).to_frame(name = \"Occurence\").reset_index()\n",
    "country_count.head(15)\n",
    "\n",
    "country_count.to_csv('country_occurence.csv')\n",
    "\n",
    "#the empty value is  count of shows where country was not mentioned "
   ]
  },
  {
   "cell_type": "markdown",
   "metadata": {},
   "source": [
    "##  4.5 Popular directors by amount of content "
   ]
  },
  {
   "cell_type": "code",
   "execution_count": 26,
   "metadata": {
    "execution": {
     "iopub.execute_input": "2023-01-06T15:39:26.106488Z",
     "iopub.status.busy": "2023-01-06T15:39:26.105743Z",
     "iopub.status.idle": "2023-01-06T15:39:26.128145Z",
     "shell.execute_reply": "2023-01-06T15:39:26.126926Z",
     "shell.execute_reply.started": "2023-01-06T15:39:26.106452Z"
    }
   },
   "outputs": [
    {
     "data": {
      "text/html": [
       "<div>\n",
       "<style scoped>\n",
       "    .dataframe tbody tr th:only-of-type {\n",
       "        vertical-align: middle;\n",
       "    }\n",
       "\n",
       "    .dataframe tbody tr th {\n",
       "        vertical-align: top;\n",
       "    }\n",
       "\n",
       "    .dataframe thead th {\n",
       "        text-align: right;\n",
       "    }\n",
       "</style>\n",
       "<table border=\"1\" class=\"dataframe\">\n",
       "  <thead>\n",
       "    <tr style=\"text-align: right;\">\n",
       "      <th></th>\n",
       "      <th>index</th>\n",
       "      <th>Occurence</th>\n",
       "    </tr>\n",
       "  </thead>\n",
       "  <tbody>\n",
       "    <tr>\n",
       "      <th>0</th>\n",
       "      <td></td>\n",
       "      <td>2634</td>\n",
       "    </tr>\n",
       "    <tr>\n",
       "      <th>1</th>\n",
       "      <td>Rajiv Chilaka</td>\n",
       "      <td>22</td>\n",
       "    </tr>\n",
       "    <tr>\n",
       "      <th>2</th>\n",
       "      <td>Jan Suter</td>\n",
       "      <td>21</td>\n",
       "    </tr>\n",
       "    <tr>\n",
       "      <th>3</th>\n",
       "      <td>Raúl Campos</td>\n",
       "      <td>19</td>\n",
       "    </tr>\n",
       "    <tr>\n",
       "      <th>4</th>\n",
       "      <td>Suhas Kadav</td>\n",
       "      <td>16</td>\n",
       "    </tr>\n",
       "    <tr>\n",
       "      <th>5</th>\n",
       "      <td>Marcus Raboy</td>\n",
       "      <td>16</td>\n",
       "    </tr>\n",
       "    <tr>\n",
       "      <th>6</th>\n",
       "      <td>Jay Karas</td>\n",
       "      <td>15</td>\n",
       "    </tr>\n",
       "    <tr>\n",
       "      <th>7</th>\n",
       "      <td>Cathy Garcia-Molina</td>\n",
       "      <td>13</td>\n",
       "    </tr>\n",
       "    <tr>\n",
       "      <th>8</th>\n",
       "      <td>Martin Scorsese</td>\n",
       "      <td>12</td>\n",
       "    </tr>\n",
       "    <tr>\n",
       "      <th>9</th>\n",
       "      <td>Jay Chapman</td>\n",
       "      <td>12</td>\n",
       "    </tr>\n",
       "  </tbody>\n",
       "</table>\n",
       "</div>"
      ],
      "text/plain": [
       "                 index  Occurence\n",
       "0                            2634\n",
       "1        Rajiv Chilaka         22\n",
       "2            Jan Suter         21\n",
       "3          Raúl Campos         19\n",
       "4          Suhas Kadav         16\n",
       "5         Marcus Raboy         16\n",
       "6            Jay Karas         15\n",
       "7  Cathy Garcia-Molina         13\n",
       "8      Martin Scorsese         12\n",
       "9          Jay Chapman         12"
      ]
     },
     "execution_count": 26,
     "metadata": {},
     "output_type": "execute_result"
    }
   ],
   "source": [
    "director_list = getlist(df['director'])\n",
    "director_count = pd.value_counts(director_list).to_frame(name = \"Occurence\").reset_index()\n",
    "director_count.head(10)\n",
    "\n"
   ]
  },
  {
   "cell_type": "markdown",
   "metadata": {},
   "source": [
    "## 4.6 What  genre  is dominating  Netflix?"
   ]
  },
  {
   "cell_type": "code",
   "execution_count": 29,
   "metadata": {
    "execution": {
     "iopub.execute_input": "2023-01-06T15:55:23.357292Z",
     "iopub.status.busy": "2023-01-06T15:55:23.356875Z",
     "iopub.status.idle": "2023-01-06T15:55:23.376994Z",
     "shell.execute_reply": "2023-01-06T15:55:23.375850Z",
     "shell.execute_reply.started": "2023-01-06T15:55:23.357255Z"
    }
   },
   "outputs": [],
   "source": [
    "genre_list =  getlist(df['Genre'])\n",
    "pd.value_counts(genre_list)\n",
    "genre_count = pd.value_counts(genre_list).to_frame(name = 'Occurence').reset_index()\n",
    "\n",
    "genre_count.to_csv('genre_list.csv')\n"
   ]
  },
  {
   "cell_type": "code",
   "execution_count": null,
   "metadata": {},
   "outputs": [],
   "source": []
  }
 ],
 "metadata": {
  "kernelspec": {
   "display_name": "Python 3 (ipykernel)",
   "language": "python",
   "name": "python3"
  },
  "language_info": {
   "codemirror_mode": {
    "name": "ipython",
    "version": 3
   },
   "file_extension": ".py",
   "mimetype": "text/x-python",
   "name": "python",
   "nbconvert_exporter": "python",
   "pygments_lexer": "ipython3",
   "version": "3.9.7"
  }
 },
 "nbformat": 4,
 "nbformat_minor": 4
}
